{
  "nbformat": 4,
  "nbformat_minor": 0,
  "metadata": {
    "colab": {
      "provenance": [],
      "gpuType": "T4"
    },
    "kernelspec": {
      "name": "python3",
      "display_name": "Python 3"
    },
    "language_info": {
      "name": "python"
    },
    "accelerator": "GPU"
  },
  "cells": [
    {
      "cell_type": "markdown",
      "source": [
        "## Step 1: 데이터 로딩"
      ],
      "metadata": {
        "id": "Tz-kChx0p0DQ"
      }
    },
    {
      "cell_type": "code",
      "execution_count": 3,
      "metadata": {
        "colab": {
          "base_uri": "https://localhost:8080/",
          "height": 1000
        },
        "id": "6XIP-5gYpS1h",
        "outputId": "add71f7c-97b7-4ec5-896e-b398740fa11f"
      },
      "outputs": [
        {
          "output_type": "stream",
          "name": "stdout",
          "text": [
            "Downloading http://yann.lecun.com/exdb/mnist/train-images-idx3-ubyte.gz\n",
            "Failed to download (trying next):\n",
            "HTTP Error 403: Forbidden\n",
            "\n",
            "Downloading https://ossci-datasets.s3.amazonaws.com/mnist/train-images-idx3-ubyte.gz\n",
            "Downloading https://ossci-datasets.s3.amazonaws.com/mnist/train-images-idx3-ubyte.gz to ./data/MNIST/raw/train-images-idx3-ubyte.gz\n"
          ]
        },
        {
          "output_type": "stream",
          "name": "stderr",
          "text": [
            "100%|██████████| 9912422/9912422 [00:03<00:00, 3260859.02it/s]\n"
          ]
        },
        {
          "output_type": "stream",
          "name": "stdout",
          "text": [
            "Extracting ./data/MNIST/raw/train-images-idx3-ubyte.gz to ./data/MNIST/raw\n",
            "\n",
            "Downloading http://yann.lecun.com/exdb/mnist/train-labels-idx1-ubyte.gz\n",
            "Failed to download (trying next):\n",
            "HTTP Error 403: Forbidden\n",
            "\n",
            "Downloading https://ossci-datasets.s3.amazonaws.com/mnist/train-labels-idx1-ubyte.gz\n",
            "Downloading https://ossci-datasets.s3.amazonaws.com/mnist/train-labels-idx1-ubyte.gz to ./data/MNIST/raw/train-labels-idx1-ubyte.gz\n"
          ]
        },
        {
          "output_type": "stream",
          "name": "stderr",
          "text": [
            "100%|██████████| 28881/28881 [00:00<00:00, 347230.98it/s]\n"
          ]
        },
        {
          "output_type": "stream",
          "name": "stdout",
          "text": [
            "Extracting ./data/MNIST/raw/train-labels-idx1-ubyte.gz to ./data/MNIST/raw\n",
            "\n",
            "Downloading http://yann.lecun.com/exdb/mnist/t10k-images-idx3-ubyte.gz\n",
            "Failed to download (trying next):\n",
            "HTTP Error 403: Forbidden\n",
            "\n",
            "Downloading https://ossci-datasets.s3.amazonaws.com/mnist/t10k-images-idx3-ubyte.gz\n",
            "Downloading https://ossci-datasets.s3.amazonaws.com/mnist/t10k-images-idx3-ubyte.gz to ./data/MNIST/raw/t10k-images-idx3-ubyte.gz\n"
          ]
        },
        {
          "output_type": "stream",
          "name": "stderr",
          "text": [
            "100%|██████████| 1648877/1648877 [00:00<00:00, 3193738.86it/s]\n"
          ]
        },
        {
          "output_type": "stream",
          "name": "stdout",
          "text": [
            "Extracting ./data/MNIST/raw/t10k-images-idx3-ubyte.gz to ./data/MNIST/raw\n",
            "\n",
            "Downloading http://yann.lecun.com/exdb/mnist/t10k-labels-idx1-ubyte.gz\n",
            "Failed to download (trying next):\n",
            "HTTP Error 403: Forbidden\n",
            "\n",
            "Downloading https://ossci-datasets.s3.amazonaws.com/mnist/t10k-labels-idx1-ubyte.gz\n",
            "Downloading https://ossci-datasets.s3.amazonaws.com/mnist/t10k-labels-idx1-ubyte.gz to ./data/MNIST/raw/t10k-labels-idx1-ubyte.gz\n"
          ]
        },
        {
          "output_type": "stream",
          "name": "stderr",
          "text": [
            "100%|██████████| 4542/4542 [00:00<00:00, 4494109.17it/s]\n"
          ]
        },
        {
          "output_type": "stream",
          "name": "stdout",
          "text": [
            "Extracting ./data/MNIST/raw/t10k-labels-idx1-ubyte.gz to ./data/MNIST/raw\n",
            "\n",
            "torch.Size([64, 1, 28, 28]) torch.Size([64])\n"
          ]
        },
        {
          "output_type": "display_data",
          "data": {
            "text/plain": [
              "<Figure size 640x480 with 1 Axes>"
            ],
            "image/png": "[encoded data removed]"
          },
          "metadata": {}
        }
      ],
      "source": [
        "import torch\n",
        "import torchvision\n",
        "import torchvision.transforms as transforms\n",
        "from matplotlib import pyplot as plt\n",
        "\n",
        "# 데이터셋을 텐서로 변환\n",
        "transform = transforms.ToTensor()\n",
        "\n",
        "# Train 데이터 로딩\n",
        "trainset = torchvision.datasets.MNIST(\n",
        "    root='./data',\n",
        "    train=True,\n",
        "    download=True,\n",
        "    transform=transform\n",
        ")\n",
        "\n",
        "# Test 데이터 로딩\n",
        "testset = torchvision.datasets.MNIST(\n",
        "    root='./data',\n",
        "    train=False,\n",
        "    download=True,\n",
        "    transform=transform\n",
        ")\n",
        "\n",
        "# Train 데이터 로더\n",
        "batch_size = 64\n",
        "trainloader = torch.utils.data.DataLoader(\n",
        "    trainset,\n",
        "    batch_size=batch_size,\n",
        "    shuffle=True\n",
        ")\n",
        "\n",
        "# Test 데이터 로더\n",
        "testloader = torch.utils.data.DataLoader(\n",
        "    testset,\n",
        "    batch_size=batch_size,\n",
        "    shuffle=False\n",
        ")\n",
        "\n",
        "# 데이터 형태 확인\n",
        "dataiter = iter(trainloader)\n",
        "images, labels = next(dataiter)\n",
        "print(images.shape, labels.shape)\n",
        "\n",
        "# 이미지 예시 시각화\n",
        "plt.imshow(trainset[0][0][0], cmap='gray')\n",
        "plt.show()"
      ]
    },
    {
      "cell_type": "markdown",
      "source": [
        "## Step 2: 모델 정의"
      ],
      "metadata": {
        "id": "Q5dn_uXWqONL"
      }
    },
    {
      "cell_type": "code",
      "source": [
        "import torch.nn as nn\n",
        "import torch.nn.functional as F\n",
        "\n",
        "class Net(nn.Module):\n",
        "    def __init__(self):\n",
        "        super(Net, self).__init__()\n",
        "        self.conv1 = nn.Conv2d(1, 32, kernel_size=3, stride=1, padding=1)\n",
        "        self.conv2 = nn.Conv2d(32, 64, kernel_size=3, stride=1, padding=1)\n",
        "        self.pool = nn.MaxPool2d(kernel_size=2, stride=2, padding=0)\n",
        "        self.fc1 = nn.Linear(64 * 7 * 7, 128)\n",
        "        self.fc2 = nn.Linear(128, 10)  # Output: 10 classes\n",
        "\n",
        "    def forward(self, x):\n",
        "        x = self.pool(F.relu(self.conv1(x)))\n",
        "        x = self.pool(F.relu(self.conv2(x)))\n",
        "        x = x.view(-1, 64 * 7 * 7)  # Flatten the tensor\n",
        "        x = F.relu(self.fc1(x))\n",
        "        x = self.fc2(x)  # No activation here, CrossEntropyLoss includes softmax\n",
        "        return x"
      ],
      "metadata": {
        "id": "E--fo8qxqTds"
      },
      "execution_count": 4,
      "outputs": []
    },
    {
      "cell_type": "markdown",
      "source": [
        "## Step 3: 손실 함수와 옵티마이저 설정"
      ],
      "metadata": {
        "id": "43egLodgqUrX"
      }
    },
    {
      "cell_type": "code",
      "source": [
        "import torch.optim as optim\n",
        "\n",
        "model = Net().to('cuda')  # GPU 사용\n",
        "loss_fn = nn.CrossEntropyLoss()  # MSE 대신 CrossEntropyLoss 사용\n",
        "optimizer = optim.Adam(model.parameters(), lr=0.001)"
      ],
      "metadata": {
        "id": "LbXuOKtEqY6j"
      },
      "execution_count": 5,
      "outputs": []
    },
    {
      "cell_type": "markdown",
      "source": [
        "## Step 4: 학습 및 평가 함수"
      ],
      "metadata": {
        "id": "OHGaFzu1qaw7"
      }
    },
    {
      "cell_type": "code",
      "source": [
        "def accuracy(model, dataloader):\n",
        "    cnt = 0\n",
        "    acc = 0\n",
        "\n",
        "    model.eval()  # 평가 모드로 설정\n",
        "    with torch.no_grad():  # Gradient 계산 안 함\n",
        "        for data in dataloader:\n",
        "            inputs, labels = data\n",
        "            inputs, labels = inputs.to('cuda'), labels.to('cuda')\n",
        "\n",
        "            preds = model(inputs)\n",
        "            preds = torch.argmax(preds, dim=-1)  # 예측값의 인덱스 (클래스)\n",
        "\n",
        "            cnt += labels.shape[0]\n",
        "            acc += (labels == preds).sum().item()\n",
        "\n",
        "    return acc / cnt"
      ],
      "metadata": {
        "id": "NIDONuhGq9U5"
      },
      "execution_count": 6,
      "outputs": []
    },
    {
      "cell_type": "code",
      "source": [
        "n_epochs = 100\n",
        "train_accuracies = []\n",
        "test_accuracies = []\n",
        "\n",
        "for epoch in range(n_epochs):\n",
        "    model.train()  # 학습 모드로 설정\n",
        "    running_loss = 0.0\n",
        "\n",
        "    for data in trainloader:\n",
        "        inputs, labels = data\n",
        "        inputs, labels = inputs.to('cuda'), labels.to('cuda')\n",
        "\n",
        "        # 옵티마이저 초기화\n",
        "        optimizer.zero_grad()\n",
        "\n",
        "        # Forward\n",
        "        outputs = model(inputs)\n",
        "        loss = loss_fn(outputs, labels)\n",
        "\n",
        "        # Backward\n",
        "        loss.backward()\n",
        "        optimizer.step()\n",
        "\n",
        "        running_loss += loss.item()\n",
        "\n",
        "    # 매 에포크마다 train과 test 정확도 계산\n",
        "    train_acc = accuracy(model, trainloader)\n",
        "    test_acc = accuracy(model, testloader)\n",
        "\n",
        "    train_accuracies.append(train_acc)\n",
        "    test_accuracies.append(test_acc)\n",
        "\n",
        "    print(f'Epoch {epoch+1}, Loss: {running_loss/len(trainloader):.4f}, '\n",
        "          f'Train Accuracy: {train_acc:.4f}, Test Accuracy: {test_acc:.4f}')\n"
      ],
      "metadata": {
        "colab": {
          "base_uri": "https://localhost:8080/"
        },
        "id": "MyVrHBjPq-fP",
        "outputId": "9ebfdb6c-5ef6-4ec4-82d0-b2de769dd747"
      },
      "execution_count": 7,
      "outputs": [
        {
          "output_type": "stream",
          "name": "stdout",
          "text": [
            "Epoch 1, Loss: 0.1727, Train Accuracy: 0.9837, Test Accuracy: 0.9824\n",
            "Epoch 2, Loss: 0.0482, Train Accuracy: 0.9906, Test Accuracy: 0.9876\n",
            "Epoch 3, Loss: 0.0330, Train Accuracy: 0.9918, Test Accuracy: 0.9877\n",
            "Epoch 4, Loss: 0.0238, Train Accuracy: 0.9960, Test Accuracy: 0.9902\n",
            "Epoch 5, Loss: 0.0185, Train Accuracy: 0.9953, Test Accuracy: 0.9898\n",
            "Epoch 6, Loss: 0.0148, Train Accuracy: 0.9959, Test Accuracy: 0.9895\n",
            "Epoch 7, Loss: 0.0106, Train Accuracy: 0.9972, Test Accuracy: 0.9909\n",
            "Epoch 8, Loss: 0.0099, Train Accuracy: 0.9979, Test Accuracy: 0.9896\n",
            "Epoch 9, Loss: 0.0077, Train Accuracy: 0.9970, Test Accuracy: 0.9915\n",
            "Epoch 10, Loss: 0.0082, Train Accuracy: 0.9979, Test Accuracy: 0.9901\n",
            "Epoch 11, Loss: 0.0055, Train Accuracy: 0.9974, Test Accuracy: 0.9907\n",
            "Epoch 12, Loss: 0.0056, Train Accuracy: 0.9991, Test Accuracy: 0.9907\n",
            "Epoch 13, Loss: 0.0036, Train Accuracy: 0.9984, Test Accuracy: 0.9899\n",
            "Epoch 14, Loss: 0.0053, Train Accuracy: 0.9987, Test Accuracy: 0.9910\n",
            "Epoch 15, Loss: 0.0041, Train Accuracy: 0.9984, Test Accuracy: 0.9908\n",
            "Epoch 16, Loss: 0.0036, Train Accuracy: 0.9995, Test Accuracy: 0.9925\n",
            "Epoch 17, Loss: 0.0046, Train Accuracy: 0.9992, Test Accuracy: 0.9921\n",
            "Epoch 18, Loss: 0.0024, Train Accuracy: 0.9990, Test Accuracy: 0.9915\n",
            "Epoch 19, Loss: 0.0025, Train Accuracy: 0.9997, Test Accuracy: 0.9921\n",
            "Epoch 20, Loss: 0.0026, Train Accuracy: 0.9989, Test Accuracy: 0.9911\n",
            "Epoch 21, Loss: 0.0023, Train Accuracy: 0.9996, Test Accuracy: 0.9917\n",
            "Epoch 22, Loss: 0.0047, Train Accuracy: 0.9996, Test Accuracy: 0.9910\n",
            "Epoch 23, Loss: 0.0014, Train Accuracy: 0.9997, Test Accuracy: 0.9933\n",
            "Epoch 24, Loss: 0.0033, Train Accuracy: 0.9990, Test Accuracy: 0.9913\n",
            "Epoch 25, Loss: 0.0018, Train Accuracy: 0.9990, Test Accuracy: 0.9905\n",
            "Epoch 26, Loss: 0.0030, Train Accuracy: 0.9988, Test Accuracy: 0.9905\n",
            "Epoch 27, Loss: 0.0021, Train Accuracy: 0.9997, Test Accuracy: 0.9930\n",
            "Epoch 28, Loss: 0.0023, Train Accuracy: 0.9996, Test Accuracy: 0.9920\n",
            "Epoch 29, Loss: 0.0025, Train Accuracy: 0.9986, Test Accuracy: 0.9914\n",
            "Epoch 30, Loss: 0.0023, Train Accuracy: 0.9994, Test Accuracy: 0.9921\n",
            "Epoch 31, Loss: 0.0011, Train Accuracy: 0.9999, Test Accuracy: 0.9933\n",
            "Epoch 32, Loss: 0.0009, Train Accuracy: 0.9998, Test Accuracy: 0.9937\n",
            "Epoch 33, Loss: 0.0008, Train Accuracy: 0.9977, Test Accuracy: 0.9894\n",
            "Epoch 34, Loss: 0.0031, Train Accuracy: 0.9994, Test Accuracy: 0.9916\n",
            "Epoch 35, Loss: 0.0013, Train Accuracy: 0.9994, Test Accuracy: 0.9914\n",
            "Epoch 36, Loss: 0.0024, Train Accuracy: 0.9994, Test Accuracy: 0.9921\n",
            "Epoch 37, Loss: 0.0012, Train Accuracy: 0.9998, Test Accuracy: 0.9930\n",
            "Epoch 38, Loss: 0.0011, Train Accuracy: 0.9997, Test Accuracy: 0.9922\n",
            "Epoch 39, Loss: 0.0032, Train Accuracy: 0.9996, Test Accuracy: 0.9926\n",
            "Epoch 40, Loss: 0.0014, Train Accuracy: 0.9998, Test Accuracy: 0.9910\n",
            "Epoch 41, Loss: 0.0006, Train Accuracy: 0.9992, Test Accuracy: 0.9906\n",
            "Epoch 42, Loss: 0.0003, Train Accuracy: 1.0000, Test Accuracy: 0.9934\n",
            "Epoch 43, Loss: 0.0000, Train Accuracy: 1.0000, Test Accuracy: 0.9938\n",
            "Epoch 44, Loss: 0.0000, Train Accuracy: 1.0000, Test Accuracy: 0.9938\n",
            "Epoch 45, Loss: 0.0000, Train Accuracy: 1.0000, Test Accuracy: 0.9939\n",
            "Epoch 46, Loss: 0.0000, Train Accuracy: 1.0000, Test Accuracy: 0.9940\n",
            "Epoch 47, Loss: 0.0000, Train Accuracy: 1.0000, Test Accuracy: 0.9939\n",
            "Epoch 48, Loss: 0.0000, Train Accuracy: 1.0000, Test Accuracy: 0.9938\n",
            "Epoch 49, Loss: 0.0000, Train Accuracy: 1.0000, Test Accuracy: 0.9939\n",
            "Epoch 50, Loss: 0.0000, Train Accuracy: 1.0000, Test Accuracy: 0.9938\n",
            "Epoch 51, Loss: 0.0000, Train Accuracy: 1.0000, Test Accuracy: 0.9937\n",
            "Epoch 52, Loss: 0.0000, Train Accuracy: 1.0000, Test Accuracy: 0.9938\n",
            "Epoch 53, Loss: 0.0000, Train Accuracy: 1.0000, Test Accuracy: 0.9938\n",
            "Epoch 54, Loss: 0.0000, Train Accuracy: 1.0000, Test Accuracy: 0.9939\n",
            "Epoch 55, Loss: 0.0000, Train Accuracy: 1.0000, Test Accuracy: 0.9941\n",
            "Epoch 56, Loss: 0.0000, Train Accuracy: 1.0000, Test Accuracy: 0.9940\n",
            "Epoch 57, Loss: 0.0000, Train Accuracy: 1.0000, Test Accuracy: 0.9940\n",
            "Epoch 58, Loss: 0.0000, Train Accuracy: 1.0000, Test Accuracy: 0.9940\n",
            "Epoch 59, Loss: 0.0000, Train Accuracy: 1.0000, Test Accuracy: 0.9940\n",
            "Epoch 60, Loss: 0.0000, Train Accuracy: 1.0000, Test Accuracy: 0.9938\n",
            "Epoch 61, Loss: 0.0000, Train Accuracy: 1.0000, Test Accuracy: 0.9938\n",
            "Epoch 62, Loss: 0.0000, Train Accuracy: 1.0000, Test Accuracy: 0.9938\n",
            "Epoch 63, Loss: 0.0000, Train Accuracy: 1.0000, Test Accuracy: 0.9938\n",
            "Epoch 64, Loss: 0.0000, Train Accuracy: 1.0000, Test Accuracy: 0.9937\n",
            "Epoch 65, Loss: 0.0000, Train Accuracy: 1.0000, Test Accuracy: 0.9937\n",
            "Epoch 66, Loss: 0.0000, Train Accuracy: 1.0000, Test Accuracy: 0.9938\n",
            "Epoch 67, Loss: 0.0000, Train Accuracy: 1.0000, Test Accuracy: 0.9937\n",
            "Epoch 68, Loss: 0.0000, Train Accuracy: 1.0000, Test Accuracy: 0.9938\n",
            "Epoch 69, Loss: 0.0000, Train Accuracy: 1.0000, Test Accuracy: 0.9938\n",
            "Epoch 70, Loss: 0.0000, Train Accuracy: 1.0000, Test Accuracy: 0.9937\n",
            "Epoch 71, Loss: 0.0000, Train Accuracy: 1.0000, Test Accuracy: 0.9936\n",
            "Epoch 72, Loss: 0.0000, Train Accuracy: 1.0000, Test Accuracy: 0.9937\n",
            "Epoch 73, Loss: 0.0000, Train Accuracy: 1.0000, Test Accuracy: 0.9935\n",
            "Epoch 74, Loss: 0.0000, Train Accuracy: 1.0000, Test Accuracy: 0.9935\n",
            "Epoch 75, Loss: 0.0000, Train Accuracy: 1.0000, Test Accuracy: 0.9932\n",
            "Epoch 76, Loss: 0.0000, Train Accuracy: 1.0000, Test Accuracy: 0.9932\n",
            "Epoch 77, Loss: 0.0000, Train Accuracy: 1.0000, Test Accuracy: 0.9933\n",
            "Epoch 78, Loss: 0.0000, Train Accuracy: 1.0000, Test Accuracy: 0.9932\n",
            "Epoch 79, Loss: 0.0000, Train Accuracy: 1.0000, Test Accuracy: 0.9933\n",
            "Epoch 80, Loss: 0.0000, Train Accuracy: 1.0000, Test Accuracy: 0.9932\n",
            "Epoch 81, Loss: 0.0000, Train Accuracy: 1.0000, Test Accuracy: 0.9931\n",
            "Epoch 82, Loss: 0.0000, Train Accuracy: 1.0000, Test Accuracy: 0.9932\n",
            "Epoch 83, Loss: 0.0000, Train Accuracy: 1.0000, Test Accuracy: 0.9932\n",
            "Epoch 84, Loss: 0.0000, Train Accuracy: 1.0000, Test Accuracy: 0.9932\n",
            "Epoch 85, Loss: 0.0000, Train Accuracy: 1.0000, Test Accuracy: 0.9932\n",
            "Epoch 86, Loss: 0.0000, Train Accuracy: 1.0000, Test Accuracy: 0.9931\n",
            "Epoch 87, Loss: 0.0000, Train Accuracy: 1.0000, Test Accuracy: 0.9931\n",
            "Epoch 88, Loss: 0.0000, Train Accuracy: 1.0000, Test Accuracy: 0.9931\n",
            "Epoch 89, Loss: 0.0000, Train Accuracy: 1.0000, Test Accuracy: 0.9932\n",
            "Epoch 90, Loss: 0.0000, Train Accuracy: 1.0000, Test Accuracy: 0.9930\n",
            "Epoch 91, Loss: 0.0000, Train Accuracy: 1.0000, Test Accuracy: 0.9927\n",
            "Epoch 92, Loss: 0.0122, Train Accuracy: 0.9996, Test Accuracy: 0.9919\n",
            "Epoch 93, Loss: 0.0005, Train Accuracy: 0.9998, Test Accuracy: 0.9917\n",
            "Epoch 94, Loss: 0.0017, Train Accuracy: 0.9998, Test Accuracy: 0.9920\n",
            "Epoch 95, Loss: 0.0010, Train Accuracy: 0.9995, Test Accuracy: 0.9917\n",
            "Epoch 96, Loss: 0.0027, Train Accuracy: 0.9996, Test Accuracy: 0.9920\n",
            "Epoch 97, Loss: 0.0020, Train Accuracy: 0.9992, Test Accuracy: 0.9911\n",
            "Epoch 98, Loss: 0.0013, Train Accuracy: 0.9996, Test Accuracy: 0.9917\n",
            "Epoch 99, Loss: 0.0019, Train Accuracy: 0.9998, Test Accuracy: 0.9919\n",
            "Epoch 100, Loss: 0.0009, Train Accuracy: 0.9931, Test Accuracy: 0.9863\n"
          ]
        }
      ]
    },
    {
      "cell_type": "markdown",
      "source": [
        "## Step 5: 정확도 시각화"
      ],
      "metadata": {
        "id": "JSgR1dO4rCBt"
      }
    },
    {
      "cell_type": "code",
      "source": [
        "import numpy as np\n",
        "\n",
        "def plot_acc(train_accs, test_accs, label1='train', label2='test'):\n",
        "    x = np.arange(len(train_accs))\n",
        "\n",
        "    plt.plot(x, train_accs, label=label1)\n",
        "    plt.plot(x, test_accs, label=label2)\n",
        "    plt.xlabel('Epochs')\n",
        "    plt.ylabel('Accuracy')\n",
        "    plt.legend()\n",
        "    plt.show()\n",
        "\n",
        "# 정확도 시각화\n",
        "plot_acc(train_accuracies, test_accuracies)\n"
      ],
      "metadata": {
        "colab": {
          "base_uri": "https://localhost:8080/",
          "height": 449
        },
        "id": "V5wuGgicrW_8",
        "outputId": "a6c15f31-59a3-40d4-866e-aa192314a79f"
      },
      "execution_count": 8,
      "outputs": [
        {
          "output_type": "display_data",
          "data": {
            "text/plain": [
              "<Figure size 640x480 with 1 Axes>"
            ],
            "image/png": "[encoded data removed]"
          },
          "metadata": {}
        }
      ]
    },
    {
      "cell_type": "markdown",
      "source": [
        "## Step 6: 모델 예측과 실제 정답 출력"
      ],
      "metadata": {
        "id": "z-bWKGWRrYyN"
      }
    },
    {
      "cell_type": "code",
      "source": [
        "# 모델이 예측한 것과 실제 정답을 10개 비교하여 출력\n",
        "model.eval()  # 모델을 평가 모드로 전환\n",
        "with torch.no_grad():  # 학습 중이 아님을 선언\n",
        "    # Test 데이터에서 첫 10개의 이미지를 사용하여 예측\n",
        "    for idx in range(10):\n",
        "        image, label = testset[idx][0], testset[idx][1]  # 이미지와 실제 정답\n",
        "        image = image.unsqueeze(0).to('cuda')  # (1, 1, 28, 28)로 모양 변경 후 GPU로 이동\n",
        "\n",
        "        output = model(image)  # 모델 예측\n",
        "        pred = torch.argmax(output, dim=1).item()  # 가장 높은 값을 가진 클래스 예측\n",
        "\n",
        "        print(f'이미지 {idx+1}: 모델 예측 = {pred}, 실제 정답 = {label}')\n"
      ],
      "metadata": {
        "colab": {
          "base_uri": "https://localhost:8080/"
        },
        "id": "YNiRjsnQZEix",
        "outputId": "208c3ab9-9a9d-45af-bdef-9b4693ab0f26"
      },
      "execution_count": 9,
      "outputs": [
        {
          "output_type": "stream",
          "name": "stdout",
          "text": [
            "이미지 1: 모델 예측 = 7, 실제 정답 = 7\n",
            "이미지 2: 모델 예측 = 2, 실제 정답 = 2\n",
            "이미지 3: 모델 예측 = 1, 실제 정답 = 1\n",
            "이미지 4: 모델 예측 = 0, 실제 정답 = 0\n",
            "이미지 5: 모델 예측 = 4, 실제 정답 = 4\n",
            "이미지 6: 모델 예측 = 1, 실제 정답 = 1\n",
            "이미지 7: 모델 예측 = 4, 실제 정답 = 4\n",
            "이미지 8: 모델 예측 = 9, 실제 정답 = 9\n",
            "이미지 9: 모델 예측 = 5, 실제 정답 = 5\n",
            "이미지 10: 모델 예측 = 9, 실제 정답 = 9\n"
          ]
        }
      ]
    }
  ]
}